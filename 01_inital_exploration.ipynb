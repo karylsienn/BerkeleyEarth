{
 "cells": [
  {
   "cell_type": "markdown",
   "metadata": {},
   "source": [
    "## Initial exploration of the dataset `BerkeleyEarth`\n",
    "\n",
    "We will start with the initial exploration of the Berkeley Climate Change dataset."
   ]
  },
  {
   "cell_type": "code",
   "execution_count": 103,
   "metadata": {},
   "outputs": [],
   "source": [
    "import os\n",
    "import pandas as pd\n",
    "import numpy as np\n",
    "import re\n",
    "from dyplot.dygraphs import Dygraphs\n",
    "import matplotlib.pyplot as plt\n",
    "from matplotlib import interactive"
   ]
  },
  {
   "cell_type": "markdown",
   "metadata": {},
   "source": [
    "First of all we have 5 files:"
   ]
  },
  {
   "cell_type": "code",
   "execution_count": 11,
   "metadata": {},
   "outputs": [
    {
     "name": "stdout",
     "output_type": "stream",
     "text": [
      "File: GlobalTemperatures.csv, size: 205875\n",
      "File: GlobalLandTemperaturesByMajorCity.csv, size: 14138385\n",
      "File: GlobalLandTemperaturesByCountry.csv, size: 22680393\n",
      "File: GlobalLandTemperaturesByState.csv, size: 30770160\n",
      "File: GlobalLandTemperaturesByCity.csv, size: 532830464\n"
     ]
    }
   ],
   "source": [
    "DATAPATH=\"../../Datasets/BerkeleyEarth\"\n",
    "getfsize = lambda f: os.path.getsize(os.path.join(DATAPATH, f))\n",
    "files = [(f, getfsize(f)) for f in os.listdir(DATAPATH) if os.path.isfile(os.path.join(DATAPATH, f))]\n",
    "files = sorted(files, key=lambda x: x[1]) # Sort by size\n",
    "for (f, size) in files:\n",
    "    print(f\"File: {f}, size: {size}\")"
   ]
  },
  {
   "cell_type": "markdown",
   "metadata": {},
   "source": [
    "The files are sorted from the smallest to the largest. The first file containts the global temperatures, that is presumably temperatures over the whole globe. Let's see them."
   ]
  },
  {
   "cell_type": "code",
   "execution_count": 17,
   "metadata": {},
   "outputs": [],
   "source": [
    "filenames = [f[0] for f in files]\n",
    "global_temperatures=pd.read_csv(os.path.join(DATAPATH, filenames[0]))"
   ]
  },
  {
   "cell_type": "code",
   "execution_count": 19,
   "metadata": {},
   "outputs": [
    {
     "name": "stdout",
     "output_type": "stream",
     "text": [
      "<class 'pandas.core.frame.DataFrame'>\n",
      "RangeIndex: 3192 entries, 0 to 3191\n",
      "Data columns (total 9 columns):\n",
      " #   Column                                     Non-Null Count  Dtype  \n",
      "---  ------                                     --------------  -----  \n",
      " 0   dt                                         3192 non-null   object \n",
      " 1   LandAverageTemperature                     3180 non-null   float64\n",
      " 2   LandAverageTemperatureUncertainty          3180 non-null   float64\n",
      " 3   LandMaxTemperature                         1992 non-null   float64\n",
      " 4   LandMaxTemperatureUncertainty              1992 non-null   float64\n",
      " 5   LandMinTemperature                         1992 non-null   float64\n",
      " 6   LandMinTemperatureUncertainty              1992 non-null   float64\n",
      " 7   LandAndOceanAverageTemperature             1992 non-null   float64\n",
      " 8   LandAndOceanAverageTemperatureUncertainty  1992 non-null   float64\n",
      "dtypes: float64(8), object(1)\n",
      "memory usage: 224.6+ KB\n"
     ]
    }
   ],
   "source": [
    "global_temperatures.info()"
   ]
  },
  {
   "cell_type": "markdown",
   "metadata": {},
   "source": [
    "The first column `dt` represents the time when the measurement was taken. \n",
    "Interestingly there are some rows, where only `dt` is non-null. Are there any duplicates then? If not, when is it?"
   ]
  },
  {
   "cell_type": "code",
   "execution_count": 61,
   "metadata": {},
   "outputs": [
    {
     "data": {
      "text/plain": [
       "3192"
      ]
     },
     "execution_count": 61,
     "metadata": {},
     "output_type": "execute_result"
    }
   ],
   "source": [
    "global_temperatures['dt'] = pd.to_datetime(global_temperatures['dt'], format='%Y-%m-%d')\n",
    "len(global_temperatures['dt'].unique())"
   ]
  },
  {
   "cell_type": "markdown",
   "metadata": {},
   "source": [
    "No duplicates."
   ]
  },
  {
   "cell_type": "code",
   "execution_count": 62,
   "metadata": {},
   "outputs": [
    {
     "data": {
      "text/plain": [
       "10   1750-11-01\n",
       "16   1751-05-01\n",
       "18   1751-07-01\n",
       "21   1751-10-01\n",
       "22   1751-11-01\n",
       "23   1751-12-01\n",
       "25   1752-02-01\n",
       "28   1752-05-01\n",
       "29   1752-06-01\n",
       "30   1752-07-01\n",
       "31   1752-08-01\n",
       "32   1752-09-01\n",
       "Name: dt, dtype: datetime64[ns]"
      ]
     },
     "execution_count": 62,
     "metadata": {},
     "output_type": "execute_result"
    }
   ],
   "source": [
    "nullind = global_temperatures.loc[:, global_temperatures.columns != 'dt'].isnull().apply(lambda row: np.all(row), axis=1)\n",
    "global_temperatures.loc[nullind, 'dt']"
   ]
  },
  {
   "cell_type": "markdown",
   "metadata": {},
   "source": [
    "Okay, so it seems all the empty rows are at the early stage of data collection, only years 1750, 1751 and 1752, when probably in some months there were no manual data.\n",
    "\n",
    "There is also more data for `LandAverageTemperature` and `LandAverageTemperatureUncertainty` than for the other columns. Probably it is also connected with the fact that those were collected in the early stages. Let's see if that's true, and if so, when all the rows start to be nonempty."
   ]
  },
  {
   "cell_type": "code",
   "execution_count": 63,
   "metadata": {},
   "outputs": [
    {
     "data": {
      "text/html": [
       "<div>\n",
       "<style scoped>\n",
       "    .dataframe tbody tr th:only-of-type {\n",
       "        vertical-align: middle;\n",
       "    }\n",
       "\n",
       "    .dataframe tbody tr th {\n",
       "        vertical-align: top;\n",
       "    }\n",
       "\n",
       "    .dataframe thead th {\n",
       "        text-align: right;\n",
       "    }\n",
       "</style>\n",
       "<table border=\"1\" class=\"dataframe\">\n",
       "  <thead>\n",
       "    <tr style=\"text-align: right;\">\n",
       "      <th></th>\n",
       "      <th>dt</th>\n",
       "      <th>LandAverageTemperature</th>\n",
       "      <th>LandAverageTemperatureUncertainty</th>\n",
       "      <th>LandMaxTemperature</th>\n",
       "      <th>LandMaxTemperatureUncertainty</th>\n",
       "      <th>LandMinTemperature</th>\n",
       "      <th>LandMinTemperatureUncertainty</th>\n",
       "      <th>LandAndOceanAverageTemperature</th>\n",
       "      <th>LandAndOceanAverageTemperatureUncertainty</th>\n",
       "    </tr>\n",
       "  </thead>\n",
       "  <tbody>\n",
       "    <tr>\n",
       "      <th>1200</th>\n",
       "      <td>1850-01-01</td>\n",
       "      <td>0.749</td>\n",
       "      <td>1.105</td>\n",
       "      <td>8.242</td>\n",
       "      <td>1.738</td>\n",
       "      <td>-3.206</td>\n",
       "      <td>2.822</td>\n",
       "      <td>12.833</td>\n",
       "      <td>0.367</td>\n",
       "    </tr>\n",
       "    <tr>\n",
       "      <th>1201</th>\n",
       "      <td>1850-02-01</td>\n",
       "      <td>3.071</td>\n",
       "      <td>1.275</td>\n",
       "      <td>9.970</td>\n",
       "      <td>3.007</td>\n",
       "      <td>-2.291</td>\n",
       "      <td>1.623</td>\n",
       "      <td>13.588</td>\n",
       "      <td>0.414</td>\n",
       "    </tr>\n",
       "    <tr>\n",
       "      <th>1202</th>\n",
       "      <td>1850-03-01</td>\n",
       "      <td>4.954</td>\n",
       "      <td>0.955</td>\n",
       "      <td>10.347</td>\n",
       "      <td>2.401</td>\n",
       "      <td>-1.905</td>\n",
       "      <td>1.410</td>\n",
       "      <td>14.043</td>\n",
       "      <td>0.341</td>\n",
       "    </tr>\n",
       "    <tr>\n",
       "      <th>1203</th>\n",
       "      <td>1850-04-01</td>\n",
       "      <td>7.217</td>\n",
       "      <td>0.665</td>\n",
       "      <td>12.934</td>\n",
       "      <td>1.004</td>\n",
       "      <td>1.018</td>\n",
       "      <td>1.329</td>\n",
       "      <td>14.667</td>\n",
       "      <td>0.267</td>\n",
       "    </tr>\n",
       "    <tr>\n",
       "      <th>1204</th>\n",
       "      <td>1850-05-01</td>\n",
       "      <td>10.004</td>\n",
       "      <td>0.617</td>\n",
       "      <td>15.655</td>\n",
       "      <td>2.406</td>\n",
       "      <td>3.811</td>\n",
       "      <td>1.347</td>\n",
       "      <td>15.507</td>\n",
       "      <td>0.249</td>\n",
       "    </tr>\n",
       "  </tbody>\n",
       "</table>\n",
       "</div>"
      ],
      "text/plain": [
       "             dt  LandAverageTemperature  LandAverageTemperatureUncertainty  \\\n",
       "1200 1850-01-01                   0.749                              1.105   \n",
       "1201 1850-02-01                   3.071                              1.275   \n",
       "1202 1850-03-01                   4.954                              0.955   \n",
       "1203 1850-04-01                   7.217                              0.665   \n",
       "1204 1850-05-01                  10.004                              0.617   \n",
       "\n",
       "      LandMaxTemperature  LandMaxTemperatureUncertainty  LandMinTemperature  \\\n",
       "1200               8.242                          1.738              -3.206   \n",
       "1201               9.970                          3.007              -2.291   \n",
       "1202              10.347                          2.401              -1.905   \n",
       "1203              12.934                          1.004               1.018   \n",
       "1204              15.655                          2.406               3.811   \n",
       "\n",
       "      LandMinTemperatureUncertainty  LandAndOceanAverageTemperature  \\\n",
       "1200                          2.822                          12.833   \n",
       "1201                          1.623                          13.588   \n",
       "1202                          1.410                          14.043   \n",
       "1203                          1.329                          14.667   \n",
       "1204                          1.347                          15.507   \n",
       "\n",
       "      LandAndOceanAverageTemperatureUncertainty  \n",
       "1200                                      0.367  \n",
       "1201                                      0.414  \n",
       "1202                                      0.341  \n",
       "1203                                      0.267  \n",
       "1204                                      0.249  "
      ]
     },
     "execution_count": 63,
     "metadata": {},
     "output_type": "execute_result"
    }
   ],
   "source": [
    "anynull_ind = global_temperatures.isnull().apply(lambda x: np.any(x), axis=1)\n",
    "global_temperatures_nonull = global_temperatures[~anynull_ind]\n",
    "global_temperatures_nonull.head()\n"
   ]
  },
  {
   "cell_type": "code",
   "execution_count": 64,
   "metadata": {},
   "outputs": [
    {
     "data": {
      "text/plain": [
       "array([1])"
      ]
     },
     "execution_count": 64,
     "metadata": {},
     "output_type": "execute_result"
    }
   ],
   "source": [
    "np.unique(np.diff(global_temperatures_nonull.index))"
   ]
  },
  {
   "cell_type": "markdown",
   "metadata": {},
   "source": [
    "It means that there are no 'holes' in the non-null rows somewhere further in the dataset."
   ]
  },
  {
   "cell_type": "markdown",
   "metadata": {},
   "source": [
    "### Trend plots\n",
    "\n",
    "Each columns for a temperature has a corresponding column with 95\\% uncertainty bounds. \n",
    "Let's see the trend plots with the confidence intervals overlapped onto the plots.\n",
    "First however let's see without the bounds, with yearly average of the data."
   ]
  },
  {
   "cell_type": "code",
   "execution_count": 78,
   "metadata": {},
   "outputs": [
    {
     "name": "stderr",
     "output_type": "stream",
     "text": [
      "/var/folders/n1/qp75l2g925sckph10y4rw6d00000gp/T/ipykernel_81345/2151186336.py:4: SettingWithCopyWarning: \n",
      "A value is trying to be set on a copy of a slice from a DataFrame.\n",
      "Try using .loc[row_indexer,col_indexer] = value instead\n",
      "\n",
      "See the caveats in the documentation: https://pandas.pydata.org/pandas-docs/stable/user_guide/indexing.html#returning-a-view-versus-a-copy\n",
      "  nouncertainty_gt['year'] = nouncertainty_gt['dt'].dt.year\n",
      "/var/folders/n1/qp75l2g925sckph10y4rw6d00000gp/T/ipykernel_81345/2151186336.py:5: SettingWithCopyWarning: \n",
      "A value is trying to be set on a copy of a slice from a DataFrame.\n",
      "Try using .loc[row_indexer,col_indexer] = value instead\n",
      "\n",
      "See the caveats in the documentation: https://pandas.pydata.org/pandas-docs/stable/user_guide/indexing.html#returning-a-view-versus-a-copy\n",
      "  nouncertainty_gt['month'] = nouncertainty_gt['dt'].dt.month\n"
     ]
    }
   ],
   "source": [
    "cols = global_temperatures_nonull.columns\n",
    "nouncertainty_cols = [c for c in cols if not re.search('Uncertainty', c)] \n",
    "nouncertainty_gt = global_temperatures[nouncertainty_cols]\n",
    "nouncertainty_gt['year'] = nouncertainty_gt['dt'].dt.year\n",
    "nouncertainty_gt['month'] = nouncertainty_gt['dt'].dt.month"
   ]
  },
  {
   "cell_type": "code",
   "execution_count": 109,
   "metadata": {},
   "outputs": [
    {
     "name": "stdout",
     "output_type": "stream",
     "text": [
      "Index(['LandAverageTemperature', 'LandMaxTemperature', 'LandMinTemperature',\n",
      "       'LandAndOceanAverageTemperature'],\n",
      "      dtype='object')\n"
     ]
    }
   ],
   "source": [
    "yearly_avg_gt = nouncertainty_gt.loc[:, nouncertainty_gt.columns != 'month'].groupby('year').mean()\n",
    "print(yearly_avg_gt.columns)"
   ]
  },
  {
   "cell_type": "code",
   "execution_count": 131,
   "metadata": {},
   "outputs": [
    {
     "data": {
      "image/png": "[encoded data removed]",
      "text/plain": [
       "<Figure size 432x288 with 1 Axes>"
      ]
     },
     "metadata": {
      "needs_background": "light"
     },
     "output_type": "display_data"
    }
   ],
   "source": [
    "%matplotlib inline\n",
    "yearly_avg_gt.plot(y=['LandAverageTemperature', 'LandMinTemperature', 'LandMaxTemperature'])\n",
    "plt.show()"
   ]
  },
  {
   "cell_type": "markdown",
   "metadata": {},
   "source": [
    "Let's see the monthly temperatures over one year."
   ]
  },
  {
   "cell_type": "code",
   "execution_count": 158,
   "metadata": {},
   "outputs": [
    {
     "data": {
      "image/png": "[encoded data removed]",
      "text/plain": [
       "<Figure size 432x288 with 1 Axes>"
      ]
     },
     "metadata": {
      "needs_background": "light"
     },
     "output_type": "display_data"
    }
   ],
   "source": [
    "colors = {1850: 'blue', 2015: 'red'}\n",
    "extentyears = nouncertainty_gt[nouncertainty_gt.year.isin( [1850, 2015]) ]\n",
    "fig, ax = plt.subplots()\n",
    "ax.scatter(extentyears['month'], extentyears['LandAverageTemperature'], c=extentyears['year'].map(colors))\n",
    "plt.show()"
   ]
  },
  {
   "cell_type": "code",
   "execution_count": null,
   "metadata": {},
   "outputs": [],
   "source": []
  }
 ],
 "metadata": {
  "interpreter": {
   "hash": "1ee38ef4a5a9feb55287fd749643f13d043cb0a7addaab2a9c224cbe137c0062"
  },
  "kernelspec": {
   "display_name": "Python 3.8.5 64-bit",
   "language": "python",
   "name": "python3"
  },
  "language_info": {
   "codemirror_mode": {
    "name": "ipython",
    "version": 3
   },
   "file_extension": ".py",
   "mimetype": "text/x-python",
   "name": "python",
   "nbconvert_exporter": "python",
   "pygments_lexer": "ipython3",
   "version": "3.8.13"
  },
  "orig_nbformat": 4
 },
 "nbformat": 4,
 "nbformat_minor": 2
}
